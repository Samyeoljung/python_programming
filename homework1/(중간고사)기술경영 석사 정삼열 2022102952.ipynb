{
 "cells": [
  {
   "cell_type": "code",
   "execution_count": 1,
   "metadata": {},
   "outputs": [
    {
     "name": "stdout",
     "output_type": "stream",
     "text": [
      "BMI는 26.23입니다.\n",
      "BMI는 26.23입니다.\n",
      "프로그램을 종료합니다.\n"
     ]
    }
   ],
   "source": [
    "height = 0\n",
    "weight = 0\n",
    "bmi = 0\n",
    "\n",
    "while True:\n",
    "    weight = input(\"몸무게(kg)를 입력하세요.\")  \n",
    "\n",
    "    if float(weight) == -1000:\n",
    "        print(\"프로그램을 종료합니다.\")\n",
    "        break\n",
    "    else:\n",
    "        height = input(\"키(cm)를 입력하세요.\")\n",
    "        if float(height) == -1000:\n",
    "            print(\"프로그램을 종료합니다.\")\n",
    "            break\n",
    "        else:\n",
    "            bmi = (float(weight) / ((float(height)/100)*(float(height)/100)))\n",
    "            print(\"BMI는 {:.2f}입니다.\".format(bmi))\n",
    "            continue"
   ]
  },
  {
   "cell_type": "code",
   "execution_count": 2,
   "metadata": {},
   "outputs": [
    {
     "name": "stdout",
     "output_type": "stream",
     "text": [
      "큰수 : 1000.00\n",
      "작은수 : 500.00\n",
      "프로그램을 종료합니다.\n"
     ]
    }
   ],
   "source": [
    "int1 = 0\n",
    "int2 = 0\n",
    "\n",
    "while True:\n",
    "    int1 = input(\"첫번째 수를 입력하세요.\")\n",
    "    int2 = input(\"두번째 수를 입력하세요.\")\n",
    "    if (float(int1)==0) and (float(int2)==0): \n",
    "        print(\"프로그램을 종료합니다.\")\n",
    "        break\n",
    "    else:\n",
    "        if float(int1)>float(int2):\n",
    "            print(\"큰수 : {:.2f}\".format(float(int1)))\n",
    "            print(\"작은수 : {:.2f}\".format(float(int2)))\n",
    "        elif float(int1)==float(int2): \n",
    "            print(\"두수의 값이 같습니다.\")\n",
    "        else: \n",
    "            print(\"큰수 : {:.2f}\".format(float(int2)))\n",
    "            print(\"작은수 : {:.2f}\".format(float(int1)))"
   ]
  },
  {
   "cell_type": "code",
   "execution_count": 1,
   "metadata": {},
   "outputs": [
    {
     "name": "stdout",
     "output_type": "stream",
     "text": [
      "A4: 98.0점, 등수: 1등\n",
      "A7: 95.0점, 등수: 2등\n",
      "A2: 79.0점, 등수: 3등\n",
      "A1: 77.0점, 등수: 4등\n",
      "A5: 75.0점, 등수: 5등\n",
      "A9: 75.0점, 등수: 5등\n",
      "A8: 65.0점, 등수: 7등\n",
      "A10: 62.0점, 등수: 8등\n",
      "A3: 56.0점, 등수: 9등\n",
      "A6: 55.0점, 등수: 10등\n"
     ]
    }
   ],
   "source": [
    "class Students(object):\n",
    "    def __init__(self, name, score):\n",
    "        self.name = name\n",
    "        self.score = score\n",
    "        self.rank = 0\n",
    "    def __str__(self):\n",
    "        return f\"{self.name}: {self.score}점, 등수: {self.rank}등\"\n",
    "\n",
    "studentsList = []\n",
    "studentsRankList = []\n",
    "\n",
    "for i in range(10):\n",
    "    name = input(f\"{i+1}번 학생의 이름을 입력하세요.\")\n",
    "    score = float(input(f\"{i+1}번 학생의 점수를 입력하세요.\"))\n",
    "    student = Students(name, score)\n",
    "    studentsList.append(student)\n",
    "for i, student in enumerate(studentsList):\n",
    "    rank = 1\n",
    "    for other_student in studentsList:\n",
    "        if other_student.score > student.score:\n",
    "            rank += 1\n",
    "    student.rank = rank\n",
    "for i, student in enumerate(studentsList):\n",
    "    for other_student in studentsList:\n",
    "        if other_student.rank - 1 == i:\n",
    "            studentsRankList.append(other_student)\n",
    "for student in studentsRankList:\n",
    "    print(student)\n"
   ]
  }
 ],
 "metadata": {
  "kernelspec": {
   "display_name": "Python 3",
   "language": "python",
   "name": "python3"
  },
  "language_info": {
   "codemirror_mode": {
    "name": "ipython",
    "version": 3
   },
   "file_extension": ".py",
   "mimetype": "text/x-python",
   "name": "python",
   "nbconvert_exporter": "python",
   "pygments_lexer": "ipython3",
   "version": "3.11.2"
  },
  "orig_nbformat": 4
 },
 "nbformat": 4,
 "nbformat_minor": 2
}
